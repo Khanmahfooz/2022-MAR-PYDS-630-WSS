{
 "cells": [
  {
   "cell_type": "markdown",
   "metadata": {},
   "source": [
    "`for loop` for traversal of sequence (iterables)"
   ]
  },
  {
   "cell_type": "code",
   "execution_count": null,
   "metadata": {},
   "outputs": [],
   "source": [
    "x = \"Zaid Kamil\" # string\n",
    "for char in x:\n",
    "    print(char, end=',')"
   ]
  },
  {
   "cell_type": "code",
   "execution_count": null,
   "metadata": {},
   "outputs": [],
   "source": [
    "numbers = [1, 2, 3, 4, 5, 6, 7, 8, 9, 10] # list\n",
    "for n in numbers:\n",
    "    print(n, end=',')"
   ]
  },
  {
   "cell_type": "markdown",
   "metadata": {},
   "source": [
    "`for loop` with fixed number of iteration"
   ]
  },
  {
   "cell_type": "code",
   "execution_count": null,
   "metadata": {},
   "outputs": [],
   "source": [
    "# range with stop value\n",
    "for i in range(100): \n",
    "    print(i,end=' ')"
   ]
  },
  {
   "cell_type": "code",
   "execution_count": null,
   "metadata": {},
   "outputs": [],
   "source": [
    "# range with start and stop values\n",
    "for i in range(5,101):\n",
    "    print(i,end=' ')"
   ]
  },
  {
   "cell_type": "code",
   "execution_count": null,
   "metadata": {},
   "outputs": [],
   "source": [
    "# range with start, stop and step values\n",
    "for i in range(3,30,3):\n",
    "    print(i,end=' ')"
   ]
  },
  {
   "cell_type": "code",
   "execution_count": null,
   "metadata": {},
   "outputs": [],
   "source": [
    "# reverse loop with range\n",
    "for i in range(10,0,-1):\n",
    "    print(i,end=' ')"
   ]
  },
  {
   "cell_type": "code",
   "execution_count": null,
   "metadata": {},
   "outputs": [],
   "source": [
    "for i in range(1,10):\n",
    "    print('🔳' * i)"
   ]
  },
  {
   "cell_type": "markdown",
   "metadata": {},
   "source": [
    "`for loop` supporting functions\n",
    "- enumerate -> it help to give the index value of every item in a sequence\n",
    "- zip -> provide a simple way to mix 2 or more sequences in a single loop"
   ]
  },
  {
   "cell_type": "code",
   "execution_count": null,
   "metadata": {},
   "outputs": [],
   "source": [
    "sentence = 'The quick brown Hero'\n",
    "for i,v in enumerate(sentence):\n",
    "    print(f'{i} {v}')"
   ]
  },
  {
   "cell_type": "code",
   "execution_count": null,
   "metadata": {},
   "outputs": [],
   "source": [
    "numbers = [11, 22, 33, 44, 55, 66, 77, 88, 99, 100]\n",
    "for idx,num in enumerate(numbers):\n",
    "    print(f'{idx}]. {num}')"
   ]
  },
  {
   "cell_type": "code",
   "execution_count": null,
   "metadata": {},
   "outputs": [],
   "source": [
    "names = ['Alex', 'Bob', 'Cindy', 'Dale', 'Eve']\n",
    "for idx,name in enumerate(names):\n",
    "    print(f'{idx}-> {name}')"
   ]
  },
  {
   "cell_type": "code",
   "execution_count": null,
   "metadata": {},
   "outputs": [],
   "source": [
    "x = [2,3,5,7,11,13,17,19,23,29]\n",
    "y = [5,13,17,23,29,31,37,41,43,47]\n",
    "for i,j in zip(x,y):\n",
    "    print(f'{i} + {j} => {i+j}')"
   ]
  },
  {
   "cell_type": "code",
   "execution_count": null,
   "metadata": {},
   "outputs": [],
   "source": [
    "names = ['Alex', 'Bob', 'Cindy', 'Dale']\n",
    "age = [20, 21, 22, 23, 24]\n",
    "colors = ['red', 'blue', 'green', 'yellow', 'orange']\n",
    "for n,a,c in zip(names,age,colors):\n",
    "    print(f'{n} is {a} years old and has {c} eyes')"
   ]
  },
  {
   "cell_type": "markdown",
   "metadata": {},
   "source": [
    "# Break and Continue"
   ]
  },
  {
   "cell_type": "code",
   "execution_count": null,
   "metadata": {},
   "outputs": [],
   "source": [
    "x = [1,2,3,4,5,6,7,8,9,10,0,12,13,14,0,15,16,0,17,18,19,20]\n",
    "for i in x:\n",
    "    if i == 0:\n",
    "        print(\"💔0 found, terminating loop\")\n",
    "        break\n",
    "    print(i, end=' ')\n"
   ]
  },
  {
   "cell_type": "code",
   "execution_count": null,
   "metadata": {},
   "outputs": [],
   "source": [
    "for i in x:\n",
    "    if i == 0:\n",
    "        continue\n",
    "    print(i, end=' ')"
   ]
  },
  {
   "cell_type": "code",
   "execution_count": null,
   "metadata": {},
   "outputs": [],
   "source": [
    "\n",
    "for i in range(1,6):\n",
    "    pwd = input(\"enter ur password\")\n",
    "    if pwd == \"123\":\n",
    "        print(\"password accepted\")\n",
    "        break\n",
    "    print(\"🚫wrong password, try again\")\n",
    "if i == 5:\n",
    "    print(\"password denied, you are locked out\")\n"
   ]
  },
  {
   "cell_type": "code",
   "execution_count": null,
   "metadata": {},
   "outputs": [],
   "source": [
    "c = 1\n",
    "c += 2\n",
    "c"
   ]
  },
  {
   "cell_type": "code",
   "execution_count": null,
   "metadata": {},
   "outputs": [],
   "source": [
    "for i in x:\n",
    "    if i != 0:\n",
    "        print(i, end=' ')"
   ]
  },
  {
   "cell_type": "markdown",
   "metadata": {},
   "source": [
    "# for-else loop\n",
    "- it has 2 block\n",
    "    - for block\n",
    "    - else block\n",
    "        - this block only runs when the iterations are completed in the for loop"
   ]
  },
  {
   "cell_type": "code",
   "execution_count": null,
   "metadata": {},
   "outputs": [],
   "source": [
    "for i in range(5):\n",
    "    print(i, end=' ')\n",
    "else:\n",
    "    print(\"loop complete\")"
   ]
  },
  {
   "cell_type": "code",
   "execution_count": null,
   "metadata": {},
   "outputs": [],
   "source": [
    "for i in range(5):\n",
    "    print(i, end=' ')\n",
    "    if i == 3:\n",
    "        break\n",
    "else:\n",
    "    print(\"loop complete\")"
   ]
  },
  {
   "cell_type": "code",
   "execution_count": null,
   "metadata": {},
   "outputs": [],
   "source": [
    "\n",
    "for i in range(1,6):\n",
    "    pwd = input(\"enter ur password\")\n",
    "    if pwd == \"123\":\n",
    "        print(\"password accepted\")\n",
    "        break\n",
    "    print(\"🚫wrong password, try again\")\n",
    "else:\n",
    "    print(\"password denied, you are locked out\")"
   ]
  },
  {
   "cell_type": "markdown",
   "metadata": {},
   "source": [
    "# prime number"
   ]
  },
  {
   "cell_type": "code",
   "execution_count": null,
   "metadata": {},
   "outputs": [],
   "source": [
    "num = int(input(\">>enter a prime number=>\"))\n",
    "for i in range(2,num):\n",
    "    print(f'{num} % {i} = {num % i}')\n",
    "    if num % i == 0:\n",
    "        print(\"not a prime number\")\n",
    "        break\n",
    "else:\n",
    "    print(f\"{num} is correct\")"
   ]
  },
  {
   "cell_type": "code",
   "execution_count": 4,
   "metadata": {},
   "outputs": [
    {
     "name": "stdout",
     "output_type": "stream",
     "text": [
      "5050\n"
     ]
    }
   ],
   "source": [
    "n = 100\n",
    "i = 1\n",
    "sum = 0\n",
    "while i <= n:\n",
    "    sum += i # update sum\n",
    "    i += 1  # update i\n",
    "print(sum)\n"
   ]
  },
  {
   "cell_type": "code",
   "execution_count": 5,
   "metadata": {},
   "outputs": [
    {
     "name": "stdout",
     "output_type": "stream",
     "text": [
      "ravi is 23 years old\n",
      "kavita is 24 years old\n",
      "rahul is 23 years old\n"
     ]
    }
   ],
   "source": [
    "while input(\"do you want to fill details\")=='yes':\n",
    "    name = input(\"enter your name\")\n",
    "    age = int(input(\"enter your age\"))\n",
    "    print(f'{name} is {age} years old')"
   ]
  },
  {
   "cell_type": "code",
   "execution_count": 7,
   "metadata": {},
   "outputs": [
    {
     "name": "stdout",
     "output_type": "stream",
     "text": [
      "Select a task: 1. sleep 2. eat 3. work 4. play 5. quit\n",
      "eat\n",
      "Select a task: 1. sleep 2. eat 3. work 4. play 5. quit\n",
      "play\n",
      "Select a task: 1. sleep 2. eat 3. work 4. play 5. quit\n",
      "quit\n"
     ]
    }
   ],
   "source": [
    "while True:\n",
    "    print(\"Select a task: 1. sleep 2. eat 3. work 4. play 5. quit\")\n",
    "    task = input(\">>\")\n",
    "    if task == '1':\n",
    "        print(\"sleep\")\n",
    "    elif task == '2':\n",
    "        print(\"eat\")\n",
    "    elif task == '3':\n",
    "        print(\"work\")\n",
    "    elif task == '4':\n",
    "        print(\"play\")\n",
    "    elif task == '5':\n",
    "        print(\"quit\")\n",
    "        break\n",
    "    "
   ]
  },
  {
   "cell_type": "markdown",
   "metadata": {},
   "source": [
    "# task\n",
    "1. write a program to display armstrong number\n",
    "2. wap to find all the factorials of a number\n",
    "3. sum of all prime numbers b/w 2 to 100"
   ]
  },
  {
   "cell_type": "code",
   "execution_count": null,
   "metadata": {},
   "outputs": [],
   "source": []
  }
 ],
 "metadata": {
  "interpreter": {
   "hash": "26d6d95e799f68a0680bea77b17a4e3218da601be7d02863e2950dbe63a5be85"
  },
  "kernelspec": {
   "display_name": "Python 3.9.5 ('base')",
   "language": "python",
   "name": "python3"
  },
  "language_info": {
   "codemirror_mode": {
    "name": "ipython",
    "version": 3
   },
   "file_extension": ".py",
   "mimetype": "text/x-python",
   "name": "python",
   "nbconvert_exporter": "python",
   "pygments_lexer": "ipython3",
   "version": "3.9.5"
  },
  "orig_nbformat": 4
 },
 "nbformat": 4,
 "nbformat_minor": 2
}
