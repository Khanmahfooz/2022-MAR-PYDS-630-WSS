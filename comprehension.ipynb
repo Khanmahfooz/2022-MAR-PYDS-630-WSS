{
 "cells": [
  {
   "cell_type": "code",
   "execution_count": 1,
   "metadata": {},
   "outputs": [
    {
     "data": {
      "text/plain": [
       "40"
      ]
     },
     "execution_count": 1,
     "metadata": {},
     "output_type": "execute_result"
    }
   ],
   "source": [
    "a_lot_of_numbers = [2,1,3,4,65,6,6,4,4,34,2,2,1,1,23,1,231,2312,312,34,4,545,65,68,78,98,0,89,0,3,45,345,4,4,65,7,7,86,7687,9]\n",
    "len(a_lot_of_numbers)"
   ]
  },
  {
   "cell_type": "markdown",
   "metadata": {},
   "source": [
    "- task 1 -> to add 5 to each element of the list and give a new list\n",
    "- task 2 -> to filter out number that are divisible by 3 and give a new list"
   ]
  },
  {
   "cell_type": "markdown",
   "metadata": {},
   "source": [
    "##### basic python programmer version"
   ]
  },
  {
   "cell_type": "code",
   "execution_count": 4,
   "metadata": {},
   "outputs": [],
   "source": [
    "output = []                  # new list\n",
    "for num in a_lot_of_numbers: # loop through the list\n",
    "    v = num + 5              # add 5 to each number\n",
    "    output.append(v)         # append the new value to the list"
   ]
  },
  {
   "cell_type": "markdown",
   "metadata": {},
   "source": [
    "#### better version / pythonic version"
   ]
  },
  {
   "cell_type": "code",
   "execution_count": 9,
   "metadata": {},
   "outputs": [],
   "source": [
    "output_v2 = [num + 5 for num in a_lot_of_numbers]"
   ]
  },
  {
   "cell_type": "code",
   "execution_count": 10,
   "metadata": {},
   "outputs": [
    {
     "name": "stdout",
     "output_type": "stream",
     "text": [
      "[2, 1, 3, 4, 65, 6, 6, 4, 4, 34, 2, 2, 1, 1, 23, 1, 231, 2312, 312, 34, 4, 545, 65, 68, 78, 98, 0, 89, 0, 3, 45, 345, 4, 4, 65, 7, 7, 86, 7687, 9]\n",
      "[7, 6, 8, 9, 70, 11, 11, 9, 9, 39, 7, 7, 6, 6, 28, 6, 236, 2317, 317, 39, 9, 550, 70, 73, 83, 103, 5, 94, 5, 8, 50, 350, 9, 9, 70, 12, 12, 91, 7692, 14]\n",
      "[7, 6, 8, 9, 70, 11, 11, 9, 9, 39, 7, 7, 6, 6, 28, 6, 236, 2317, 317, 39, 9, 550, 70, 73, 83, 103, 5, 94, 5, 8, 50, 350, 9, 9, 70, 12, 12, 91, 7692, 14]\n"
     ]
    }
   ],
   "source": [
    "print(a_lot_of_numbers)\n",
    "print(output)\n",
    "print(output_v2)"
   ]
  },
  {
   "cell_type": "markdown",
   "metadata": {},
   "source": [
    "##### task 2 non pythonic version"
   ]
  },
  {
   "cell_type": "code",
   "execution_count": 11,
   "metadata": {},
   "outputs": [],
   "source": [
    "out3 = []                       # new list\n",
    "for i in a_lot_of_numbers:      # loop through the list\n",
    "    if i % 3 == 0:              # if the number is divisible by 3\n",
    "        out3.append(i)          # append the number to the list"
   ]
  },
  {
   "cell_type": "markdown",
   "metadata": {},
   "source": [
    "##### task 2 pythonic version"
   ]
  },
  {
   "cell_type": "code",
   "execution_count": 13,
   "metadata": {},
   "outputs": [],
   "source": [
    "out3_v2 = [i for i in a_lot_of_numbers if i % 3 == 0]"
   ]
  },
  {
   "cell_type": "code",
   "execution_count": 14,
   "metadata": {},
   "outputs": [
    {
     "name": "stdout",
     "output_type": "stream",
     "text": [
      "[3, 6, 6, 231, 312, 78, 0, 0, 3, 45, 345, 9]\n",
      "[3, 6, 6, 231, 312, 78, 0, 0, 3, 45, 345, 9]\n"
     ]
    }
   ],
   "source": [
    "print(out3)\n",
    "print(out3_v2)"
   ]
  },
  {
   "cell_type": "markdown",
   "metadata": {},
   "source": [
    "task 3 -> all 10 to all numbers that are divisible by 2 and give a new list"
   ]
  },
  {
   "cell_type": "code",
   "execution_count": 15,
   "metadata": {},
   "outputs": [],
   "source": [
    "x = {1,2,3,4,5,6,7,8,9}"
   ]
  },
  {
   "cell_type": "code",
   "execution_count": 16,
   "metadata": {},
   "outputs": [
    {
     "name": "stdout",
     "output_type": "stream",
     "text": [
      "{1, 2, 3, 4, 5, 6, 7, 8, 9}\n",
      "{64, 1, 4, 36, 9, 16, 49, 81, 25}\n"
     ]
    }
   ],
   "source": [
    "x2 = {i**2 for i in x}\n",
    "print(x)\n",
    "print(x2)"
   ]
  },
  {
   "cell_type": "code",
   "execution_count": 17,
   "metadata": {},
   "outputs": [
    {
     "name": "stdout",
     "output_type": "stream",
     "text": [
      "{1, 2, 3, 4, 5, 6, 7, 8, 9}\n",
      "[1, 8, 27, 64, 125, 216, 343, 512, 729]\n"
     ]
    }
   ],
   "source": [
    "x3 = [i**3 for i in x]\n",
    "print(x)\n",
    "print(x3)"
   ]
  },
  {
   "cell_type": "markdown",
   "metadata": {},
   "source": [
    "# creating a dictionary using comprehension"
   ]
  },
  {
   "cell_type": "code",
   "execution_count": 21,
   "metadata": {},
   "outputs": [
    {
     "name": "stdout",
     "output_type": "stream",
     "text": [
      "{2: 4, 1: 2, 3: 6, 4: 8, 65: 130, 6: 12, 34: 68, 23: 46, 231: 462, 2312: 4624, 312: 624, 545: 1090, 68: 136, 78: 156, 98: 196, 0: 0, 89: 178, 45: 90, 345: 690, 7: 14, 86: 172, 7687: 15374, 9: 18}\n"
     ]
    }
   ],
   "source": [
    "data = {i : i * 2 for i in a_lot_of_numbers}\n",
    "print(data)"
   ]
  },
  {
   "cell_type": "code",
   "execution_count": null,
   "metadata": {},
   "outputs": [],
   "source": []
  }
 ],
 "metadata": {
  "interpreter": {
   "hash": "c9450883d3451aee670b44918951f0b621a7ac9844fd47806b375e634e18795f"
  },
  "kernelspec": {
   "display_name": "Python 3.9.5 ('base')",
   "language": "python",
   "name": "python3"
  },
  "language_info": {
   "codemirror_mode": {
    "name": "ipython",
    "version": 3
   },
   "file_extension": ".py",
   "mimetype": "text/x-python",
   "name": "python",
   "nbconvert_exporter": "python",
   "pygments_lexer": "ipython3",
   "version": "3.9.5"
  },
  "orig_nbformat": 4
 },
 "nbformat": 4,
 "nbformat_minor": 2
}
