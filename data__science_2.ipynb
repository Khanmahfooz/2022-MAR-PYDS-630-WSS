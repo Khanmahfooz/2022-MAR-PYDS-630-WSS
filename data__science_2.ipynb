{
  "nbformat": 4,
  "nbformat_minor": 0,
  "metadata": {
    "colab": {
      "name": "data__science 2.ipynb",
      "provenance": [],
      "authorship_tag": "ABX9TyNqJKQc7UJ/KPSNLjXRN51e",
      "include_colab_link": true
    },
    "kernelspec": {
      "name": "python3",
      "display_name": "Python 3"
    },
    "language_info": {
      "name": "python"
    }
  },
  "cells": [
    {
      "cell_type": "markdown",
      "metadata": {
        "id": "view-in-github",
        "colab_type": "text"
      },
      "source": [
        "<a href=\"https://colab.research.google.com/github/Khanmahfooz/2022-MAR-PYDS-630-WSS/blob/main/data__science_2.ipynb\" target=\"_parent\"><img src=\"https://colab.research.google.com/assets/colab-badge.svg\" alt=\"Open In Colab\"/></a>"
      ]
    },
    {
      "cell_type": "code",
      "source": [
        "import pandas as pd\n",
        "import numpy as np\n",
        "import matplotlib.pyplot as plt\n",
        "\n"
      ],
      "metadata": {
        "id": "WRLwcUohC0pq"
      },
      "execution_count": 2,
      "outputs": []
    },
    {
      "cell_type": "code",
      "source": [
        "pd.set_option('display.max_columns', None)"
      ],
      "metadata": {
        "id": "x5Jp0JAaFDC7"
      },
      "execution_count": 3,
      "outputs": []
    },
    {
      "cell_type": "markdown",
      "source": [
        "\n",
        "preprocessing\n",
        "\n",
        "    find columns that are not usable\n",
        "    drop columns that are not usable\n",
        "    rename columns\n",
        "    fill missing values\n",
        "\n"
      ],
      "metadata": {
        "id": "uJ7r3zcUFNgP"
      }
    },
    {
      "cell_type": "code",
      "source": [
        "canada = pd.read_excel('Canada.xlsx',engine='openpyxl',sheet_name='Canada by Citizenship',skiprows=20,skipfooter=2)"
      ],
      "metadata": {
        "id": "xGM9ll60FPL5"
      },
      "execution_count": null,
      "outputs": []
    },
    {
      "cell_type": "markdown",
      "source": [
        ""
      ],
      "metadata": {
        "id": "GHYvOasuFMVw"
      }
    },
    {
      "cell_type": "code",
      "source": [
        ""
      ],
      "metadata": {
        "id": "jwLbOzIWGW5W"
      },
      "execution_count": null,
      "outputs": []
    }
  ]
}