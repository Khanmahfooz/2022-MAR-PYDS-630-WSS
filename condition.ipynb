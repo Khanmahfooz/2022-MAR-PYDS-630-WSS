{
 "cells": [
  {
   "cell_type": "markdown",
   "metadata": {},
   "source": [
    "related and unrelated condition"
   ]
  },
  {
   "cell_type": "code",
   "execution_count": 2,
   "metadata": {},
   "outputs": [
    {
     "name": "stdout",
     "output_type": "stream",
     "text": [
      "example 1\n",
      "example 2\n",
      "example 3\n"
     ]
    }
   ],
   "source": [
    "\n",
    "a = 13\n",
    "if a > 12:\n",
    "    print(\"example 1\")\n",
    "if a > 9:\n",
    "    print(\"example 2\")\n",
    "if a > 11:\n",
    "    print(\"example 3\")"
   ]
  },
  {
   "cell_type": "code",
   "execution_count": 6,
   "metadata": {},
   "outputs": [
    {
     "name": "stdout",
     "output_type": "stream",
     "text": [
      "a falls in range of 10 to 14\n"
     ]
    }
   ],
   "source": [
    "# nested condition\n",
    "a  = 12\n",
    "if a > 9:\n",
    "    if a < 15:\n",
    "        print(\"a falls in range of 10 to 14\")"
   ]
  },
  {
   "cell_type": "markdown",
   "metadata": {},
   "source": [
    "logical expression with condition (better than nesting)"
   ]
  },
  {
   "cell_type": "code",
   "execution_count": 7,
   "metadata": {},
   "outputs": [
    {
     "name": "stdout",
     "output_type": "stream",
     "text": [
      "a falls in range of 10 to 14\n"
     ]
    }
   ],
   "source": [
    "if a > 9 and a < 15:\n",
    "    print(\"a falls in range of 10 to 14\")"
   ]
  },
  {
   "cell_type": "code",
   "execution_count": 11,
   "metadata": {},
   "outputs": [
    {
     "name": "stdout",
     "output_type": "stream",
     "text": [
      "B\n"
     ]
    }
   ],
   "source": [
    "score = int(input(\"Enter your score: \"))\n",
    "if score >= 90:\n",
    "    letter = \"A\"\n",
    "elif score >= 80:\n",
    "    letter = \"B\"\n",
    "elif score >= 70:\n",
    "    letter = \"C\"\n",
    "elif score >= 60:\n",
    "    letter = \"D\"\n",
    "else:\n",
    "    letter = \"E\"\n",
    "print(letter)"
   ]
  },
  {
   "cell_type": "code",
   "execution_count": 14,
   "metadata": {},
   "outputs": [
    {
     "name": "stdout",
     "output_type": "stream",
     "text": [
      "Name must be at least 3 characters long\n"
     ]
    }
   ],
   "source": [
    "name= input(\"Enter your name: \")\n",
    "if len(name) <= 3:\n",
    "    print(\"Name must be at least 3 characters long\")\n",
    "else:\n",
    "    print(\"Good to go\")"
   ]
  },
  {
   "cell_type": "code",
   "execution_count": null,
   "metadata": {},
   "outputs": [],
   "source": []
  }
 ],
 "metadata": {
  "interpreter": {
   "hash": "9004412554d4457951538c3cf67b60c89cd929ff7b314d8d9a0e554b7ea3531a"
  },
  "kernelspec": {
   "display_name": "Python 3.9.7 ('digi-blog')",
   "language": "python",
   "name": "python3"
  },
  "language_info": {
   "codemirror_mode": {
    "name": "ipython",
    "version": 3
   },
   "file_extension": ".py",
   "mimetype": "text/x-python",
   "name": "python",
   "nbconvert_exporter": "python",
   "pygments_lexer": "ipython3",
   "version": "3.9.5"
  },
  "orig_nbformat": 4
 },
 "nbformat": 4,
 "nbformat_minor": 2
}
