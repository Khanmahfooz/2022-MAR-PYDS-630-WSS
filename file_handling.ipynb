{
 "cells": [
  {
   "cell_type": "markdown",
   "metadata": {},
   "source": [
    "# file handling - text file\n",
    "- read a file\n",
    "- create a file\n",
    "- write to a file\n",
    "- append to a file\n",
    "- delete a file"
   ]
  },
  {
   "cell_type": "code",
   "execution_count": null,
   "metadata": {},
   "outputs": [],
   "source": [
    "import os "
   ]
  },
  {
   "cell_type": "code",
   "execution_count": null,
   "metadata": {},
   "outputs": [],
   "source": [
    "os.path.exists('kahani.txt') # optional"
   ]
  },
  {
   "cell_type": "code",
   "execution_count": null,
   "metadata": {},
   "outputs": [],
   "source": [
    "with open('kahani.txt') as file:\n",
    "    print(file.read())"
   ]
  },
  {
   "cell_type": "code",
   "execution_count": null,
   "metadata": {},
   "outputs": [],
   "source": [
    "with open('kahani.txt') as file:\n",
    "    content = file.read()\n",
    "    print(f'file has {len(content.split())} words')"
   ]
  },
  {
   "cell_type": "code",
   "execution_count": null,
   "metadata": {},
   "outputs": [],
   "source": [
    "with open(r\"C:\\Drivers\\NV_GFE\\EULA.txt\") as file:\n",
    "    content = file.read()\n",
    "    print(f'file has {len(content.split())} words')"
   ]
  },
  {
   "cell_type": "code",
   "execution_count": 23,
   "metadata": {},
   "outputs": [],
   "source": [
    "with open('qa.txt','w') as f:\n",
    "    name = input('What is your name?')\n",
    "    f.write(name+\"\\n\")\n",
    "    college = input('What college do you go to?')\n",
    "    f.write(college+\"\\n\")\n",
    "    hobby = input('What is your hobby?')\n",
    "    f.write(hobby+\"\\n\")"
   ]
  },
  {
   "cell_type": "code",
   "execution_count": 18,
   "metadata": {},
   "outputs": [],
   "source": [
    "data = '''this is a test\n",
    "this is a test\n",
    "this is a test\n",
    "this is a test\n",
    "'''\n",
    "with open('test.txt','w') as f:\n",
    "    f.write(data)"
   ]
  },
  {
   "cell_type": "code",
   "execution_count": 24,
   "metadata": {},
   "outputs": [],
   "source": [
    "author = \"\\nwritten by Zaid\\n at Lucknow\"\n",
    "\n",
    "with open('qa.txt','a') as f:\n",
    "    f.write(author)"
   ]
  },
  {
   "cell_type": "code",
   "execution_count": 26,
   "metadata": {},
   "outputs": [],
   "source": [
    "os.unlink('test.txt')"
   ]
  },
  {
   "cell_type": "code",
   "execution_count": 27,
   "metadata": {},
   "outputs": [],
   "source": [
    "os.unlink('qa.txt')"
   ]
  },
  {
   "cell_type": "markdown",
   "metadata": {},
   "source": [
    "## Task 1\n",
    "- write a function that reads a file and returns the text\n",
    "- write a function that creates a file based on the data given by user\n",
    "- write a function that checks if a file exists or not, and then add or append to the file based on the data given by user"
   ]
  }
 ],
 "metadata": {
  "interpreter": {
   "hash": "e57a68d6f262d97f125619281d03f1809b3b5ef85e9f1be4b8c94bbbf10b388b"
  },
  "kernelspec": {
   "display_name": "Python 3.9.7 ('base')",
   "language": "python",
   "name": "python3"
  },
  "language_info": {
   "codemirror_mode": {
    "name": "ipython",
    "version": 3
   },
   "file_extension": ".py",
   "mimetype": "text/x-python",
   "name": "python",
   "nbconvert_exporter": "python",
   "pygments_lexer": "ipython3",
   "version": "3.9.7"
  },
  "orig_nbformat": 4
 },
 "nbformat": 4,
 "nbformat_minor": 2
}
