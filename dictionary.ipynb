{
 "cells": [
  {
   "cell_type": "code",
   "execution_count": 6,
   "metadata": {},
   "outputs": [],
   "source": [
    "students = {\n",
    "    'Vaibhav' : {\n",
    "        'english' : 65,\n",
    "        'maths' : 75,\n",
    "        'science' : 80,\n",
    "        'social_studies' : 90,\n",
    "        'evs': 100\n",
    "    },\n",
    "    'Rohit' : {\n",
    "        'english' : 70,\n",
    "        'maths' : 85,\n",
    "        'science' : 90,\n",
    "        'social_studies' : 95,\n",
    "        'evs': 100\n",
    "    },\n",
    "    'Ansh': {\n",
    "        'english' : 75,\n",
    "        'maths' : 90,\n",
    "        'science' : 95,\n",
    "        'social_studies' : 100,\n",
    "        'evs': 100\n",
    "    }\n",
    "}"
   ]
  },
  {
   "cell_type": "code",
   "execution_count": 5,
   "metadata": {},
   "outputs": [
    {
     "name": "stdout",
     "output_type": "stream",
     "text": [
      "{'Vaibhav': {'english': 65, 'maths': 75, 'science': 80, 'social_studies': 90, 'evs': 100}, 'Rohit': {'english': 70, 'maths': 85, 'science': 90, 'social_studies': 95, 'evs': 100}, 'Ansh': {'english': 75, 'maths': 90, 'science': 95, 'social_studies': 100, 'evs': 100}}\n"
     ]
    }
   ],
   "source": [
    "print(students)"
   ]
  },
  {
   "cell_type": "code",
   "execution_count": null,
   "metadata": {},
   "outputs": [],
   "source": [
    "for name, marks in students.items():\n",
    "    print(name)\n",
    "    for subject,score in marks.items():\n",
    "        print(subject, score)"
   ]
  },
  {
   "cell_type": "markdown",
   "metadata": {},
   "source": [
    "wap to store word meaning in a dictionary"
   ]
  },
  {
   "cell_type": "code",
   "execution_count": 9,
   "metadata": {},
   "outputs": [
    {
     "name": "stdout",
     "output_type": "stream",
     "text": [
      "not found\n",
      "not found\n",
      "bun => its a bread\n",
      "bun => its a bread\n",
      "exiting\n"
     ]
    }
   ],
   "source": [
    "data = {}\n",
    "while True:\n",
    "    word = input(\"enter a word: \")\n",
    "    if word:\n",
    "        if word in data:\n",
    "            print(word,\"=>\",data[word])\n",
    "        else:\n",
    "            print(\"not found\")\n",
    "            if input(f'do you know the meaning of {word} (y/n):') == 'y':\n",
    "                data[word] = input(\"enter the meaning: \")\n",
    "    else:\n",
    "        print('exiting')\n",
    "        break"
   ]
  },
  {
   "cell_type": "code",
   "execution_count": null,
   "metadata": {},
   "outputs": [],
   "source": []
  }
 ],
 "metadata": {
  "interpreter": {
   "hash": "26d6d95e799f68a0680bea77b17a4e3218da601be7d02863e2950dbe63a5be85"
  },
  "kernelspec": {
   "display_name": "Python 3.9.5 ('base')",
   "language": "python",
   "name": "python3"
  },
  "language_info": {
   "codemirror_mode": {
    "name": "ipython",
    "version": 3
   },
   "file_extension": ".py",
   "mimetype": "text/x-python",
   "name": "python",
   "nbconvert_exporter": "python",
   "pygments_lexer": "ipython3",
   "version": "3.9.5"
  },
  "orig_nbformat": 4
 },
 "nbformat": 4,
 "nbformat_minor": 2
}
