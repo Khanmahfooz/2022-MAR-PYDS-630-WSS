{
 "cells": [
  {
   "cell_type": "markdown",
   "metadata": {},
   "source": [
    "creation"
   ]
  },
  {
   "cell_type": "code",
   "execution_count": 1,
   "metadata": {},
   "outputs": [],
   "source": [
    "class Person:\n",
    "    pass"
   ]
  },
  {
   "cell_type": "markdown",
   "metadata": {},
   "source": [
    "usage"
   ]
  },
  {
   "cell_type": "code",
   "execution_count": 3,
   "metadata": {},
   "outputs": [
    {
     "name": "stdout",
     "output_type": "stream",
     "text": [
      "<class '__main__.Person'>\n"
     ]
    }
   ],
   "source": [
    "p = Person()\n",
    "print(type(p))"
   ]
  },
  {
   "cell_type": "markdown",
   "metadata": {},
   "source": [
    "class properties"
   ]
  },
  {
   "cell_type": "code",
   "execution_count": 5,
   "metadata": {},
   "outputs": [],
   "source": [
    "class Person:\n",
    "    name = 'John Doe'\n",
    "    age = 30"
   ]
  },
  {
   "cell_type": "code",
   "execution_count": 9,
   "metadata": {},
   "outputs": [
    {
     "name": "stdout",
     "output_type": "stream",
     "text": [
      "age 30\n",
      "name John Doe\n"
     ]
    }
   ],
   "source": [
    "p2 = Person()\n",
    "print('age',p2.age)\n",
    "print('name',p2.name)"
   ]
  },
  {
   "cell_type": "markdown",
   "metadata": {},
   "source": [
    "properties can change"
   ]
  },
  {
   "cell_type": "code",
   "execution_count": 10,
   "metadata": {},
   "outputs": [
    {
     "name": "stdout",
     "output_type": "stream",
     "text": [
      "age 32\n",
      "name John Doe\n"
     ]
    }
   ],
   "source": [
    "p2.age = 32\n",
    "print('age',p2.age)\n",
    "print('name',p2.name)"
   ]
  },
  {
   "cell_type": "markdown",
   "metadata": {},
   "source": [
    "class behavior - methods"
   ]
  },
  {
   "cell_type": "code",
   "execution_count": 13,
   "metadata": {},
   "outputs": [],
   "source": [
    "class Person:\n",
    "    name = 'John Doe'\n",
    "    age = 30\n",
    "\n",
    "    def say_hello(self):\n",
    "        print('Hello')\n",
    "    \n",
    "    def eat(self, food):\n",
    "        print('Eating', food)"
   ]
  },
  {
   "cell_type": "code",
   "execution_count": 17,
   "metadata": {},
   "outputs": [
    {
     "name": "stdout",
     "output_type": "stream",
     "text": [
      "John Doe\n",
      "30\n",
      "Hello\n",
      "Eating pizza\n"
     ]
    }
   ],
   "source": [
    "p = Person()\n",
    "print(p.name)\n",
    "print(p.age)\n",
    "p.say_hello()\n",
    "p.eat(\"pizza\")"
   ]
  },
  {
   "cell_type": "markdown",
   "metadata": {},
   "source": [
    "constructor - initializes the object"
   ]
  },
  {
   "cell_type": "code",
   "execution_count": 23,
   "metadata": {},
   "outputs": [],
   "source": [
    "class Person:\n",
    "\n",
    "    def __init__(self, name, age):\n",
    "        # instance variables\n",
    "        self.age = age\n",
    "        self.name = name\n",
    "\n",
    "    # magic function\n",
    "    def __str__(self):\n",
    "        return self.name +\",\"+ str(self.age)"
   ]
  },
  {
   "cell_type": "code",
   "execution_count": 24,
   "metadata": {},
   "outputs": [
    {
     "name": "stdout",
     "output_type": "stream",
     "text": [
      "John,30\n",
      "Jane,25\n",
      "Jack,20\n"
     ]
    }
   ],
   "source": [
    "p = Person('John', 30)\n",
    "p2 = Person('Jane', 25)\n",
    "p3 = Person('Jack', 20)\n",
    "print(p)\n",
    "print(p2)\n",
    "print(p3)\n"
   ]
  },
  {
   "cell_type": "markdown",
   "metadata": {},
   "source": [
    "instance methods - methods that are called on an instance of a class"
   ]
  },
  {
   "cell_type": "code",
   "execution_count": 28,
   "metadata": {},
   "outputs": [],
   "source": [
    "class Employee:\n",
    "    def __init__(self, name, salary):\n",
    "        # instance variables\n",
    "        self.name = name\n",
    "        self.salary = salary\n",
    "\n",
    "    def __str__(self):\n",
    "        return f'{self.name} earns {self.salary}'\n",
    "\n",
    "    # instance method\n",
    "    def calc_da(self, per):\n",
    "        return self.salary * per\n",
    "\n",
    "    def calc_hra(self, per):\n",
    "        return self.salary * per"
   ]
  },
  {
   "cell_type": "code",
   "execution_count": 29,
   "metadata": {},
   "outputs": [
    {
     "name": "stdout",
     "output_type": "stream",
     "text": [
      "John earns 1000\n",
      "400.0\n",
      "500.0\n",
      "Jane earns 2000\n",
      "800.0\n",
      "1000.0\n",
      "Jack earns 3000\n",
      "1200.0\n",
      "1500.0\n"
     ]
    }
   ],
   "source": [
    "e = Employee('John', 1000)\n",
    "e2 = Employee('Jane', 2000)\n",
    "e3 = Employee('Jack', 3000)\n",
    "print(e)\n",
    "print(e.calc_da(0.4))\n",
    "print(e.calc_hra(0.5))\n",
    "print(e2)\n",
    "print(e2.calc_da(0.4))\n",
    "print(e2.calc_hra(0.5))\n",
    "print(e3)\n",
    "print(e3.calc_da(0.4))\n",
    "print(e3.calc_hra(0.5))"
   ]
  },
  {
   "cell_type": "markdown",
   "metadata": {},
   "source": [
    "inheritance"
   ]
  },
  {
   "cell_type": "code",
   "execution_count": 31,
   "metadata": {},
   "outputs": [],
   "source": [
    "class Shape:\n",
    "    \n",
    "    def __init__(self, color):\n",
    "        self.color = color"
   ]
  },
  {
   "cell_type": "code",
   "execution_count": 32,
   "metadata": {},
   "outputs": [],
   "source": [
    "s = Shape('red')\n",
    "s2 = Shape('blue')"
   ]
  },
  {
   "cell_type": "code",
   "execution_count": 39,
   "metadata": {},
   "outputs": [],
   "source": [
    "# circle inherits from Shape\n",
    "class Circle(Shape):\n",
    "\n",
    "    def __init__(self, color, radius):\n",
    "        super().__init__(color)\n",
    "        self.radius = radius\n",
    "    \n",
    "    def __str__(self):\n",
    "        return f'{self.color} circle with radius {self.radius}'\n",
    "        "
   ]
  },
  {
   "cell_type": "code",
   "execution_count": 40,
   "metadata": {},
   "outputs": [
    {
     "name": "stdout",
     "output_type": "stream",
     "text": [
      "red circle with radius 10\n",
      "blue circle with radius 20\n"
     ]
    }
   ],
   "source": [
    "c = Circle('red', 10)\n",
    "c2 = Circle('blue', 20)\n",
    "print(c)\n",
    "print(c2)"
   ]
  },
  {
   "cell_type": "code",
   "execution_count": null,
   "metadata": {},
   "outputs": [],
   "source": []
  }
 ],
 "metadata": {
  "interpreter": {
   "hash": "e57a68d6f262d97f125619281d03f1809b3b5ef85e9f1be4b8c94bbbf10b388b"
  },
  "kernelspec": {
   "display_name": "Python 3.9.7 ('base')",
   "language": "python",
   "name": "python3"
  },
  "language_info": {
   "codemirror_mode": {
    "name": "ipython",
    "version": 3
   },
   "file_extension": ".py",
   "mimetype": "text/x-python",
   "name": "python",
   "nbconvert_exporter": "python",
   "pygments_lexer": "ipython3",
   "version": "3.9.7"
  },
  "orig_nbformat": 4
 },
 "nbformat": 4,
 "nbformat_minor": 2
}
